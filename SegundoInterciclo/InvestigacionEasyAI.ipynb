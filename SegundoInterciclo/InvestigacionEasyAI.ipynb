{
 "cells": [
  {
   "cell_type": "markdown",
   "metadata": {},
   "source": [
    "<img src=\"logo.png\">"
   ]
  },
  {
   "cell_type": "markdown",
   "metadata": {},
   "source": [
    "# Minimax y Alpha-Beta prunning"
   ]
  },
  {
   "cell_type": "markdown",
   "metadata": {},
   "source": [
    "# #  JUEGO 3 EN RAYA"
   ]
  },
  {
   "cell_type": "code",
   "execution_count": null,
   "metadata": {},
   "outputs": [],
   "source": [
    "from easyAI import TwoPlayersGame, Human_Player, AI_Player, Negamax\n",
    "import numpy as np"
   ]
  },
  {
   "cell_type": "code",
   "execution_count": null,
   "metadata": {},
   "outputs": [],
   "source": [
    "class TresEnRaya(TwoPlayersGame):\n",
    "    \n",
    "    def __init__(self,nplayers):\n",
    "        self.tablero = np.zeros((3,3),dtype = int)\n",
    "        self.nplayer = 1\n",
    "        self.mapa = {}\n",
    "        cont = 1\n",
    "        for i in range(len(self.tablero)):\n",
    "            for j in range(len(self.tablero)):\n",
    "                self.mapa[cont]=(i,j)\n",
    "                cont+=1\n",
    "                \n",
    "        #print(self.mapa)\n",
    "        self.players = nplayers\n",
    "        \n",
    "\n",
    "    def possible_moves(self):\n",
    "        moves = []\n",
    "        cont = 1\n",
    "        for i in range(len(self.tablero)):\n",
    "            for j in range(len(self.tablero)):\n",
    "                if self.tablero[i][j] == 0:\n",
    "                    moves.append(cont)\n",
    "                cont+=1\n",
    "                \n",
    "        #print(moves)\n",
    "        return moves\n",
    "    \n",
    "    def make_move(self,casillero):\n",
    "        pos = self.mapa[casillero]\n",
    "        self.tablero[pos[0]][pos[1]] = self.nplayer\n",
    "        \n",
    "    def unmake_move(self,casillero):\n",
    "        pos = self.mapa[casillero]\n",
    "        self.tablero[pos[0]][pos[1]] = 0\n",
    "        \n",
    "    def lose(self):\n",
    "        for i in range(len(self.tablero)):\n",
    "            if np.all(self.tablero[i,:]==self.nopponent,axis = 0) or np.all(self.tablero[:,i]==self.nopponent,axis = 0):\n",
    "                return True\n",
    "        \n",
    "        \n",
    "        if self.tablero[0][0]==self.nopponent and self.tablero[1][1]==self.nopponent and self.tablero[2][2]==self.nopponent:\n",
    "            return True\n",
    "        \n",
    "        if self.tablero[2][0]==self.nopponent and self.tablero[1][1]==self.nopponent and self.tablero[0][2]==self.nopponent:\n",
    "            return True\n",
    "        \n",
    "        return False\n",
    "    \n",
    "    \n",
    "    def show(self):\n",
    "        print(self.tablero)\n",
    "        \n",
    "        \n",
    "    def scoring(self):\n",
    "        return -100 if self.lose() else 0\n",
    "\n",
    "        \n",
    "    def is_over(self):\n",
    "        return (self.possible_moves() == [] or self.lose())\n",
    "            \n",
    "    \n",
    "if __name__==\"__main__\":\n",
    "    ai_algo = Negamax(6)\n",
    "    tresenraya = TresEnRaya([Human_Player(),AI_Player(ai_algo)])\n",
    "    tresenraya.play()"
   ]
  },
  {
   "cell_type": "markdown",
   "metadata": {},
   "source": [
    "# Realizar una investigación sobre el algoritmo Minimax y Alpha-Beta prunning\n",
    "\n",
    "# ¿Que es minimax?\n",
    "\n",
    "Minimax es un método de decisión para minimizar la pérdida esperada en juegos con adversario y con información perfecta, es un algoritmo recursivo. \n",
    "John Von Neumann es el creador del teorema minimax un procedimiento recursivo y el corte de la recursión está dado por alguna de las siguientes condiciones: Gana algún jugador Se han explorado N capas, siendo N el límite establecido Se ha agotado el tiempo de exploración Se ha llegado a una situación estática donde no hay grandes cambios de un nivel a otro. En simples palabras el algoritmo de minimax consiste en la elección del mejor movimiento para el computador, suponiendo que el contrincante escogerá uno que lo pueda perjudicar, para escoger la mejor opción este algoritmo realiza un árbol de búsqueda con todos los posibles movimientos, luego recorre todo el árbol de soluciones del juego a partir de un estado dado, es decir, según las casillas que ya han sido rellenadas. Por tanto, minimax se ejecutará cada vez que le toque mover a la IA.\n",
    "\n",
    "\n",
    "# Espacio de busqueda queda definido por:\n",
    "\n",
    "* Estado inicial: es decir estado en el que el juego inicia\n",
    "* Operadores: Corresponde a las jugadas legales que se pueden hacer en el juego.\n",
    "* Condición Terminal: Determina cuando el juego se acabó, es decir cuando unos de los dos gano.\n",
    "* Función de Utilidad: Da un valor numérico a una configuración final de un juego. En un juego en donde se puede ganar, perder o empatar, los valores pueden ser 1, 0, o -1.\n",
    "\n",
    "\n",
    "# Funcionamiento\n",
    "1.Generación del árbol de juego. Segenerarán todos los nodos hasta llegar a un estado terminal.\n",
    "2.Cálculo de los valores de la función de utilidad para cada nodo terminal. \n",
    "3.Calcular el valor de los nodos superiores a partir del valor de los inferiores.Alternativamente se elegirán los valores mínimos y máximos representando los movimientos del jugador y del oponente, de ahí el nombre de Minimax.\n",
    "4.Elegir la jugada valorando los valores que han llegado al nivel superior. \n",
    "\n",
    "El algoritmo primero generar un árbol de soluciones completo a partir de un nodo dado.\n",
    "Para cada nodo final, buscamos la función de utilidad de estos, entre los pioneros en el uso de esta técnica encontramos a Arthur Samuel, D.J Edwards y T.P. Hart,1 Alan Kotok,2 Alexander Brudno,3 Donald Knuth y Ronald W. Moore4\n",
    "\n",
    "El problema de la búsqueda Minimax es que el número de estados a explorar es exponencial al número de movimientos. Partiendo de este hecho, la técnica de poda alfa-beta trata de eliminar partes grandes del árbol, aplicándolo a un árbol Minimax estándar, de forma que se devuelva el mismo movimiento que devolvería este, gracias a que la poda de dichas ramas no influye en la decisión final.\n",
    "\n",
    "# Ejemplo \n",
    "\n",
    "* Funcionamiento de Minimax en un árbol generado para un juego imaginario.\n",
    "* Los posibles valores de la función de utilidad tienen un rango de [1-9].\n",
    "* En los movimientos del contrincante suponemos que escogerá los movimientos que minimicen nuestra utilidad\n",
    "* En nuestros movimientos suponemos que escogeremos los movimientos que maximizan nuestra utilidad.\n",
    "* 1er. Paso: Calcular los nodos\n",
    "terminales, en verde. \n",
    "* 2º. Paso: Calcular el cuarto nivel, movimiento MIN, minimizando lo elegido (5, 2 y 1).\n",
    "* 3er. Paso: Calcular el tercer nivel, movimiento MAX, maximizando la utilidad (5, 9).\n",
    "* El segundo nivel es un movimiento MIN (5, 3 y 1).\n",
    "* Finalmente llegamos al primer nivel, el movimiento actual, elegiremos el nodo que maximize nuestra utilidad (5). \n",
    "<img src=\"ejemploMin.png\">\n",
    "\n",
    "\n",
    "\n",
    "# ¿Que es Alpha-Beta prunning?\n",
    "\n",
    "Es un algoritmo de búsqueda que busca disminuir el número de nodos que evalúa el algoritmo minimax en su árbol de búsqueda . Es un algoritmo de búsqueda de adversarios que se usa comúnmente para jugar en máquinas de juegos de dos jugadores. Deja de evaluar un movimiento cuando se ha encontrado al menos una posibilidad que demuestra que el movimiento es peor que un movimiento examinado previamente. Tales movimientos no necesitan ser evaluados más a fondo. Cuando se aplica a un árbol minimax estándar, devuelve el mismo movimiento que minimax, pero elimina las ramas que no pueden influir en la decisión final.\n",
    "\n",
    "# Funcionamiento\n",
    "\n",
    "La poda alfa-beta toma dicho nombre de la utilización de dos parámetros que describen los límites sobre los valores hacia atrás que aparecen a lo largo de cada camino.\n",
    "\n",
    "α es el valor de la mejor opción hasta el momento a lo largo del camino para MAX, esto implicará por lo tanto la elección del valor más alto*\n",
    "β es el valor de la mejor opción hasta el momento a lo largo del camino para MIN, esto implicará por lo tanto la elección del valor más bajo.*\n",
    "\n",
    "Esta búsqueda alfa-beta va actualizando el valor de los parámetros según se recorre el árbol. El método realizará la poda de las ramas restantes cuando el valor actual que se está examinando sea peor que el valor actual de α o β para MAX o MIN, respectivamente.\n",
    "\n",
    "# Ejemplo \n",
    "\n",
    "Un ejemplo pedagógico de animación que intentos de ser humano-amistoso mediante la sustitución de valores infinitos inicial (o arbitrariamente grande) para vacío y evitando el uso de la negamax simplificaciones codificación.\n",
    "\n",
    "<img src=\"ejemploAl.png\">\n",
    "\n",
    "# Historia de los algoritmos\n",
    "\n",
    "Historia de los algoritmos (de acuerdo a lo planteado por Alan Turing para el caso del Minimax)\n",
    "Alan Turing, fue de los primeros que relacionó algoritmo y ordenadores. De hecho, fue de los primeros que imaginó un ordenador tal y como los conocemos. Incluso llegó a pensar que las máquinas podrían pensar, y hasta escribir poemas de amor.\n",
    "\n",
    "La Máquina de Turing no es una máquina que exista en el mundo físico, sino un constructo mental. Consiste en una cinta infinita sobre la que se van haciendo operaciones repetitivas hasta dar soluciones, viene a ser una definición informática del algoritmo y un ordenador, el primero, conceptualizado: “En esencia, es el precursor de los ordenadores: tiene una memoria, unas instrucciones (un programa), unas operaciones elementales, una entrada y una salida”, explica el profesor Peña. Lo más interesante es que es una máquina universal, que puede llevar a cabo cualquier programa que se le ordene. Dentro de los problemas del mundo hay de dos tipos: los que puede resolver una Máquina de Turing (llamados computables) y los que no (los no computables), igual que vemos en el mundo real tareas que pueden realizar las máquinas (cada vez más) y otras que solo pueden realizar los humanos. Todos los ordenadores, tablets, smartphones, etc, que conocemos son máquinas de Turing.\n",
    "\n",
    "Alan M. Turing desarrolló el primer programa de ordenador de la historia para jugar al ajedrez. Fue a finales de los años 40, y está descrito en su artículo Digital Computers Applied to Games (que se publicó en el libro Faster than Thought, editado por B. V. Bowden, Pitman, Londres 1953). Allí Turing sienta lo que serán las bases de los programas posteriores de ajedrez por ordenador: la simulación de secuencias de movimientos, la evaluación de los estados finales de esas secuencias y la propagación de esa evaluación a los estados directamente sucesores de la configuración actual de juego.\n",
    "\n",
    "\n",
    "Para explicar de una mejor manera se realizara con el ejemplo con tres jugadores en donde cada uno tendrá asignado un nodo, este para poder obtener el estado terminal tendrá que hacer uso de la función de utilidades la cual nos va a devolver un vector de utilidades, seguido de esto tendremos que analizar los estados no terminales para reconocer los movimientos que nos conducirán hacia un estado terminal con utilidades, se podría decir que el valor hacia atrás de un nodo será el vector de utilidades de cualquier estado sucesor que tiene el valor más alto para cada jugador.\n"
   ]
  },
  {
   "cell_type": "markdown",
   "metadata": {},
   "source": [
    "# CONCLUSION"
   ]
  },
  {
   "cell_type": "markdown",
   "metadata": {},
   "source": [
    "El algoritmo Minimax es muy util el desarrollo de video juegos tempranos los cuales nos facilitan de como adquirir y entender una lógica para juegos, ademas nos da la poibilidad de poner en practica pequeños juegos ya desarrollados con este tipo de algoritmo, ademas alpha-beta es un complemento de minimax que nos permite aprovechar mas aun dicho algoritmo para mejorar ciertos procesos que minimax no considera."
   ]
  },
  {
   "cell_type": "markdown",
   "metadata": {},
   "source": [
    "# REFERENCIAS"
   ]
  },
  {
   "cell_type": "markdown",
   "metadata": {},
   "source": [
    "* http://razonartificial.com/2010/08/algoritmo-minimax-un-jugador-incansable/\n",
    "* https://ccc.inaoep.mx/~emorales/Cursos/Busqueda/node49.html"
   ]
  },
  {
   "cell_type": "markdown",
   "metadata": {},
   "source": [
    "# Actividad Práctica No.6a y 6b\n",
    "Desarrollar un mini-juego (tema libre) empleando una de las 2 siguientes alternativas:\n",
    "easyAI\n",
    "Universe + GYM\n",
    "El juego deberá implementar algún algoritmo de IA y de igual forma, generar un informe de movimientos, puntajes y quién \n",
    "gana la partida. El informe deberá ser cargado junto con el trabajo de revisión del algoritmo MiniMax."
   ]
  },
  {
   "cell_type": "code",
   "execution_count": null,
   "metadata": {},
   "outputs": [],
   "source": []
  }
 ],
 "metadata": {
  "kernelspec": {
   "display_name": "Python 3",
   "language": "python",
   "name": "python3"
  },
  "language_info": {
   "codemirror_mode": {
    "name": "ipython",
    "version": 3
   },
   "file_extension": ".py",
   "mimetype": "text/x-python",
   "name": "python",
   "nbconvert_exporter": "python",
   "pygments_lexer": "ipython3",
   "version": "3.7.6"
  }
 },
 "nbformat": 4,
 "nbformat_minor": 4
}
